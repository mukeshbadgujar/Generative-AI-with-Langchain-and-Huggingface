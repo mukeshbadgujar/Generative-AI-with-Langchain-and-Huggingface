{
 "cells": [
  {
   "cell_type": "markdown",
   "metadata": {},
   "source": [
    "Tag\tFull Form\tExample\n",
    "CC\tCoordinating Conjunction\tand, but, or\n",
    "CD\tCardinal Number\tone, two, 100\n",
    "DT\tDeterminer\tthe, a, an\n",
    "EX\tExistential There\tthere (is a cat)\n",
    "FW\tForeign Word\tbonjour, amigo\n",
    "IN\tPreposition/Subordinating Conjunction\tin, on, because\n",
    "JJ\tAdjective\thappy, big, fast\n",
    "JJR\tAdjective, Comparative\tbigger, faster\n",
    "JJS\tAdjective, Superlative\tbiggest, fastest\n",
    "LS\tList Item Marker\t1), A.\n",
    "MD\tModal\tcan, will, must\n",
    "NN\tNoun, Singular\tdog, apple, computer\n",
    "NNS\tNoun, Plural\tdogs, apples, computers\n",
    "NNP\tProper Noun, Singular\tJohn, India\n",
    "NNPS\tProper Noun, Plural\tAmericans, Indians\n",
    "PDT\tPredeterminer\tall, half, both\n",
    "POS\tPossessive Ending\t's, ’s\n",
    "PRP\tPersonal Pronoun\the, she, they\n",
    "PRP$\tPossessive Pronoun\this, her, their\n",
    "RB\tAdverb\tquickly, very\n",
    "RBR\tAdverb, Comparative\tfaster, better\n",
    "RBS\tAdverb, Superlative\tfastest, best\n",
    "RP\tParticle\tup, off, over\n",
    "SYM\tSymbol\t$, %, &\n",
    "TO\t\"to\"\tto (go to school)\n",
    "UH\tInterjection\toh, wow, hey\n",
    "VB\tVerb, Base Form\trun, eat, go\n",
    "VBD\tVerb, Past Tense\tran, ate, went\n",
    "VBG\tVerb, Gerund/Present Participle\trunning, eating\n",
    "VBN\tVerb, Past Participle\trun, eaten, gone\n",
    "VBP\tVerb, Present (Not 3rd Person)\trun, eat, go\n",
    "VBZ\tVerb, 3rd Person Singular\truns, eats, goes\n",
    "WDT\tWh-Determiner\twhich, whatever\n",
    "WP\tWh-Pronoun\twho, what\n",
    "WP$\tPossessive Wh-Pronoun\twhose\n",
    "WRB\tWh-Adverb\thow, where, when"
   ]
  },
  {
   "cell_type": "code",
   "execution_count": 4,
   "metadata": {},
   "outputs": [],
   "source": [
    "paragraph = \"\"\"Bhimrao Ramji Ambedkar (Bhīmrāo Rāmjī Āmbēḍkar; 14 April 1891 – 6 December 1956) was an Indian jurist, economist, \n",
    "social reformer and political leader who chaired the committee that drafted the Constitution of India based on the debates of the Constituent Assembly of India \n",
    "and the first draft of Sir Benegal Narsing Rau.[1][2][3][4][5] Ambedkar served as Law and Justice minister in the first cabinet of \n",
    "Jawaharlal Nehru. He later renounced Hinduism, converted to Buddhism and inspired the Dalit Buddhist movement. After graduating from Elphinstone College, University of Bombay, \n",
    "Ambedkar studied economics at Columbia University and the London School of Economics, receiving doctorates in 1927 and 1923, respectively, \n",
    "and was among a handful of Indian students to have done so at either institution in the 1920s.[7] He also trained in the law at Gray's Inn, \n",
    "London. In his early career, he was an economist, professor, and lawyer. \n",
    "His later life was marked by his political activities; he became involved in campaigning and negotiations for partition, \n",
    "publishing journals, advocating political rights and social freedom for Dalits, and contributing to the establishment of the state of India. \n",
    "In 1956, he converted to Buddhism, initiating mass conversions of Dalits.[8]\"\"\""
   ]
  },
  {
   "cell_type": "code",
   "execution_count": 5,
   "metadata": {},
   "outputs": [],
   "source": [
    "from nltk.corpus import stopwords\n",
    "from nltk.tokenize import sent_tokenize"
   ]
  },
  {
   "cell_type": "code",
   "execution_count": 6,
   "metadata": {},
   "outputs": [],
   "source": [
    "sentences = sent_tokenize(paragraph)"
   ]
  },
  {
   "cell_type": "code",
   "execution_count": 7,
   "metadata": {},
   "outputs": [
    {
     "data": {
      "text/plain": [
       "['Bhimrao Ramji Ambedkar (Bhīmrāo Rāmjī Āmbēḍkar; 14 April 1891 – 6 December 1956) was an Indian jurist, economist, \\nsocial reformer and political leader who chaired the committee that drafted the Constitution of India based on the debates of the Constituent Assembly of India \\nand the first draft of Sir Benegal Narsing Rau.',\n",
       " '[1][2][3][4][5] Ambedkar served as Law and Justice minister in the first cabinet of \\nJawaharlal Nehru.',\n",
       " 'He later renounced Hinduism, converted to Buddhism and inspired the Dalit Buddhist movement.',\n",
       " 'After graduating from Elphinstone College, University of Bombay, \\nAmbedkar studied economics at Columbia University and the London School of Economics, receiving doctorates in 1927 and 1923, respectively, \\nand was among a handful of Indian students to have done so at either institution in the 1920s.',\n",
       " \"[7] He also trained in the law at Gray's Inn, \\nLondon.\",\n",
       " 'In his early career, he was an economist, professor, and lawyer.',\n",
       " 'His later life was marked by his political activities; he became involved in campaigning and negotiations for partition, \\npublishing journals, advocating political rights and social freedom for Dalits, and contributing to the establishment of the state of India.',\n",
       " 'In 1956, he converted to Buddhism, initiating mass conversions of Dalits.',\n",
       " '[8]']"
      ]
     },
     "execution_count": 7,
     "metadata": {},
     "output_type": "execute_result"
    }
   ],
   "source": [
    "sentences"
   ]
  },
  {
   "cell_type": "code",
   "execution_count": 10,
   "metadata": {},
   "outputs": [
    {
     "name": "stderr",
     "output_type": "stream",
     "text": [
      "[nltk_data] Downloading package averaged_perceptron_tagger to\n",
      "[nltk_data]     /home/mukesh/nltk_data...\n",
      "[nltk_data]   Package averaged_perceptron_tagger is already up-to-\n",
      "[nltk_data]       date!\n"
     ]
    },
    {
     "data": {
      "text/plain": [
       "True"
      ]
     },
     "execution_count": 10,
     "metadata": {},
     "output_type": "execute_result"
    }
   ],
   "source": [
    "import nltk\n",
    "nltk.download(\"averaged_perceptron_tagger\")"
   ]
  },
  {
   "cell_type": "code",
   "execution_count": 12,
   "metadata": {},
   "outputs": [
    {
     "name": "stdout",
     "output_type": "stream",
     "text": [
      "[('Bhimrao', 'NNP'), ('Ramji', 'NNP'), ('Ambedkar', 'NNP'), ('(', '('), ('Bhīmrāo', 'NNP'), ('Rāmjī', 'NNP'), ('Āmbēḍkar', 'NNP'), (';', ':'), ('14', 'CD'), ('April', 'NNP'), ('1891', 'CD'), ('–', 'NNP'), ('6', 'CD'), ('December', 'NNP'), ('1956', 'CD'), (')', ')'), ('Indian', 'JJ'), ('jurist', 'NN'), (',', ','), ('economist', 'NN'), (',', ','), ('social', 'JJ'), ('reformer', 'JJ'), ('political', 'JJ'), ('leader', 'NN'), ('chaired', 'VBN'), ('committee', 'NN'), ('drafted', 'VBN'), ('Constitution', 'NNP'), ('India', 'NNP'), ('based', 'VBN'), ('debates', 'NNS'), ('Constituent', 'NNP'), ('Assembly', 'NNP'), ('India', 'NNP'), ('first', 'RB'), ('draft', 'VBZ'), ('Sir', 'NNP'), ('Benegal', 'NNP'), ('Narsing', 'NNP'), ('Rau', 'NNP'), ('.', '.')]\n",
      "[('[', 'RB'), ('1', 'CD'), (']', 'JJ'), ('[', '$'), ('2', 'CD'), (']', 'NNP'), ('[', 'VBD'), ('3', 'CD'), (']', 'NNP'), ('[', 'VBD'), ('4', 'CD'), (']', 'NNP'), ('[', 'VBD'), ('5', 'CD'), (']', 'NNP'), ('Ambedkar', 'NNP'), ('served', 'VBD'), ('Law', 'NNP'), ('Justice', 'NNP'), ('minister', 'NN'), ('first', 'RB'), ('cabinet', 'VBZ'), ('Jawaharlal', 'NNP'), ('Nehru', 'NNP'), ('.', '.')]\n",
      "[('He', 'PRP'), ('later', 'RB'), ('renounced', 'VBD'), ('Hinduism', 'NNP'), (',', ','), ('converted', 'VBD'), ('Buddhism', 'NNP'), ('inspired', 'VBD'), ('Dalit', 'NNP'), ('Buddhist', 'NNP'), ('movement', 'NN'), ('.', '.')]\n",
      "[('After', 'IN'), ('graduating', 'VBG'), ('Elphinstone', 'NNP'), ('College', 'NNP'), (',', ','), ('University', 'NNP'), ('Bombay', 'NNP'), (',', ','), ('Ambedkar', 'NNP'), ('studied', 'VBD'), ('economics', 'NNS'), ('Columbia', 'NNP'), ('University', 'NNP'), ('London', 'NNP'), ('School', 'NNP'), ('Economics', 'NNP'), (',', ','), ('receiving', 'VBG'), ('doctorates', 'NNS'), ('1927', 'CD'), ('1923', 'CD'), (',', ','), ('respectively', 'RB'), (',', ','), ('among', 'IN'), ('handful', 'JJ'), ('Indian', 'JJ'), ('students', 'NNS'), ('done', 'VBN'), ('either', 'DT'), ('institution', 'NN'), ('1920s', 'CD'), ('.', '.')]\n",
      "[('[', 'RB'), ('7', 'CD'), (']', 'NN'), ('He', 'PRP'), ('also', 'RB'), ('trained', 'VBD'), ('law', 'NN'), ('Gray', 'NNP'), (\"'s\", 'POS'), ('Inn', 'NNP'), (',', ','), ('London', 'NNP'), ('.', '.')]\n",
      "[('In', 'IN'), ('early', 'JJ'), ('career', 'NN'), (',', ','), ('economist', 'NN'), (',', ','), ('professor', 'NN'), (',', ','), ('lawyer', 'NN'), ('.', '.')]\n",
      "[('His', 'PRP$'), ('later', 'JJ'), ('life', 'NN'), ('marked', 'VBD'), ('political', 'JJ'), ('activities', 'NNS'), (';', ':'), ('became', 'VBD'), ('involved', 'JJ'), ('campaigning', 'NN'), ('negotiations', 'NNS'), ('partition', 'NN'), (',', ','), ('publishing', 'NN'), ('journals', 'NNS'), (',', ','), ('advocating', 'VBG'), ('political', 'JJ'), ('rights', 'NNS'), ('social', 'JJ'), ('freedom', 'NN'), ('Dalits', 'NNP'), (',', ','), ('contributing', 'VBG'), ('establishment', 'JJ'), ('state', 'NN'), ('India', 'NNP'), ('.', '.')]\n",
      "[('In', 'IN'), ('1956', 'CD'), (',', ','), ('converted', 'VBD'), ('Buddhism', 'NNP'), (',', ','), ('initiating', 'VBG'), ('mass', 'NN'), ('conversions', 'NNS'), ('Dalits', 'NNP'), ('.', '.')]\n",
      "[('[', 'RB'), ('8', 'CD'), (']', 'NNS')]\n"
     ]
    }
   ],
   "source": [
    "for sentence in sentences:\n",
    "    words = nltk.word_tokenize(sentence)\n",
    "    # remove stopwords\n",
    "    words = [word for word in words if word not in set(stopwords.words('english'))]\n",
    "    tagged_words = nltk.pos_tag(words)\n",
    "    print(tagged_words)"
   ]
  },
  {
   "cell_type": "code",
   "execution_count": 14,
   "metadata": {},
   "outputs": [
    {
     "data": {
      "text/plain": [
       "[('I', 'PRP'), ('am', 'VBP'), ('going', 'VBG'), ('to', 'TO'), ('school', 'NN')]"
      ]
     },
     "execution_count": 14,
     "metadata": {},
     "output_type": "execute_result"
    }
   ],
   "source": [
    "my_sentence = \"I am going to school\"\n",
    "nltk.pos_tag(my_sentence.split())"
   ]
  },
  {
   "cell_type": "code",
   "execution_count": null,
   "metadata": {},
   "outputs": [],
   "source": []
  },
  {
   "cell_type": "code",
   "execution_count": null,
   "metadata": {},
   "outputs": [],
   "source": []
  }
 ],
 "metadata": {
  "kernelspec": {
   "display_name": "myenv",
   "language": "python",
   "name": "python3"
  },
  "language_info": {
   "codemirror_mode": {
    "name": "ipython",
    "version": 3
   },
   "file_extension": ".py",
   "mimetype": "text/x-python",
   "name": "python",
   "nbconvert_exporter": "python",
   "pygments_lexer": "ipython3",
   "version": "3.10.16"
  }
 },
 "nbformat": 4,
 "nbformat_minor": 2
}
