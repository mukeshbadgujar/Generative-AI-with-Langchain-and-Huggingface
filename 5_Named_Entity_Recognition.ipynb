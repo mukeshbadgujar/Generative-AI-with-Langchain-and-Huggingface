{
 "cells": [
  {
   "cell_type": "code",
   "execution_count": 2,
   "metadata": {},
   "outputs": [],
   "source": [
    "sentnce = \"On January 10, 2024, Elon Musk, the CEO of Tesla and SpaceX, attended a tech conference in San Francisco, California, where he discussed the future of AI and self-driving cars, mentioning that Tesla plans to invest $5 billion in AI research by the end of 2025.\""
   ]
  },
  {
   "cell_type": "code",
   "execution_count": 3,
   "metadata": {},
   "outputs": [],
   "source": [
    "import nltk\n",
    "\n",
    "words = nltk.word_tokenize(sentnce)"
   ]
  },
  {
   "cell_type": "code",
   "execution_count": 5,
   "metadata": {},
   "outputs": [],
   "source": [
    "tagged_words = nltk.pos_tag(words)"
   ]
  },
  {
   "cell_type": "code",
   "execution_count": 6,
   "metadata": {},
   "outputs": [
    {
     "data": {
      "text/plain": [
       "[('On', 'IN'),\n",
       " ('January', 'NNP'),\n",
       " ('10', 'CD'),\n",
       " (',', ','),\n",
       " ('2024', 'CD'),\n",
       " (',', ','),\n",
       " ('Elon', 'NNP'),\n",
       " ('Musk', 'NNP'),\n",
       " (',', ','),\n",
       " ('the', 'DT'),\n",
       " ('CEO', 'NNP'),\n",
       " ('of', 'IN'),\n",
       " ('Tesla', 'NNP'),\n",
       " ('and', 'CC'),\n",
       " ('SpaceX', 'NNP'),\n",
       " (',', ','),\n",
       " ('attended', 'VBD'),\n",
       " ('a', 'DT'),\n",
       " ('tech', 'JJ'),\n",
       " ('conference', 'NN'),\n",
       " ('in', 'IN'),\n",
       " ('San', 'NNP'),\n",
       " ('Francisco', 'NNP'),\n",
       " (',', ','),\n",
       " ('California', 'NNP'),\n",
       " (',', ','),\n",
       " ('where', 'WRB'),\n",
       " ('he', 'PRP'),\n",
       " ('discussed', 'VBD'),\n",
       " ('the', 'DT'),\n",
       " ('future', 'NN'),\n",
       " ('of', 'IN'),\n",
       " ('AI', 'NNP'),\n",
       " ('and', 'CC'),\n",
       " ('self-driving', 'JJ'),\n",
       " ('cars', 'NNS'),\n",
       " (',', ','),\n",
       " ('mentioning', 'VBG'),\n",
       " ('that', 'IN'),\n",
       " ('Tesla', 'NNP'),\n",
       " ('plans', 'VBZ'),\n",
       " ('to', 'TO'),\n",
       " ('invest', 'VB'),\n",
       " ('$', '$'),\n",
       " ('5', 'CD'),\n",
       " ('billion', 'CD'),\n",
       " ('in', 'IN'),\n",
       " ('AI', 'NNP'),\n",
       " ('research', 'NN'),\n",
       " ('by', 'IN'),\n",
       " ('the', 'DT'),\n",
       " ('end', 'NN'),\n",
       " ('of', 'IN'),\n",
       " ('2025', 'CD'),\n",
       " ('.', '.')]"
      ]
     },
     "execution_count": 6,
     "metadata": {},
     "output_type": "execute_result"
    }
   ],
   "source": [
    "tagged_words"
   ]
  },
  {
   "cell_type": "code",
   "execution_count": 7,
   "metadata": {},
   "outputs": [
    {
     "name": "stderr",
     "output_type": "stream",
     "text": [
      "[nltk_data] Downloading package punkt to /home/mukesh/nltk_data...\n",
      "[nltk_data]   Package punkt is already up-to-date!\n",
      "[nltk_data] Downloading package maxent_ne_chunker to\n",
      "[nltk_data]     /home/mukesh/nltk_data...\n",
      "[nltk_data]   Package maxent_ne_chunker is already up-to-date!\n",
      "[nltk_data] Downloading package words to /home/mukesh/nltk_data...\n",
      "[nltk_data]   Package words is already up-to-date!\n"
     ]
    },
    {
     "data": {
      "text/plain": [
       "True"
      ]
     },
     "execution_count": 7,
     "metadata": {},
     "output_type": "execute_result"
    }
   ],
   "source": [
    "nltk.download('punkt')\n",
    "nltk.download('maxent_ne_chunker')\n",
    "nltk.download('words')"
   ]
  },
  {
   "cell_type": "code",
   "execution_count": 12,
   "metadata": {},
   "outputs": [
    {
     "name": "stdout",
     "output_type": "stream",
     "text": [
      "Requirement already satisfied: numpy in /home/mukesh/anaconda3/envs/myenv/lib/python3.10/site-packages (2.2.3)\n",
      "Collecting svgling\n",
      "  Downloading svgling-0.5.0-py3-none-any.whl.metadata (7.4 kB)\n",
      "Collecting svgwrite (from svgling)\n",
      "  Downloading svgwrite-1.4.3-py3-none-any.whl.metadata (8.8 kB)\n",
      "Downloading svgling-0.5.0-py3-none-any.whl (31 kB)\n",
      "Downloading svgwrite-1.4.3-py3-none-any.whl (67 kB)\n",
      "Installing collected packages: svgwrite, svgling\n",
      "Successfully installed svgling-0.5.0 svgwrite-1.4.3\n"
     ]
    }
   ],
   "source": [
    "!pip install numpy\n",
    "!pip install svgling"
   ]
  },
  {
   "cell_type": "code",
   "execution_count": null,
   "metadata": {},
   "outputs": [],
   "source": [
    "nltk.ne_chunk(tagged_words) #.draw()"
   ]
  },
  {
   "cell_type": "code",
   "execution_count": null,
   "metadata": {},
   "outputs": [],
   "source": []
  }
 ],
 "metadata": {
  "kernelspec": {
   "display_name": "myenv",
   "language": "python",
   "name": "python3"
  },
  "language_info": {
   "codemirror_mode": {
    "name": "ipython",
    "version": 3
   },
   "file_extension": ".py",
   "mimetype": "text/x-python",
   "name": "python",
   "nbconvert_exporter": "python",
   "pygments_lexer": "ipython3",
   "version": "3.10.16"
  }
 },
 "nbformat": 4,
 "nbformat_minor": 2
}
