{
 "cells": [
  {
   "cell_type": "markdown",
   "metadata": {},
   "source": [
    "## Stemming"
   ]
  },
  {
   "cell_type": "code",
   "execution_count": null,
   "metadata": {},
   "outputs": [],
   "source": [
    "from nltk.stem import PorterStemmer, SnowballStemmer, LancasterStemmer"
   ]
  },
  {
   "cell_type": "code",
   "execution_count": 3,
   "metadata": {},
   "outputs": [],
   "source": [
    "# initialize the stemmer\n",
    "porter = PorterStemmer()\n",
    "snowball = SnowballStemmer('english')\n",
    "lancaster = LancasterStemmer()"
   ]
  },
  {
   "cell_type": "code",
   "execution_count": 15,
   "metadata": {},
   "outputs": [],
   "source": [
    "words = [\"running\", \"happiness\", \"fairly\", \"studies\", \"connection\", \"quickly\", \"going\", \"looked\"]"
   ]
  },
  {
   "cell_type": "code",
   "execution_count": 16,
   "metadata": {},
   "outputs": [
    {
     "name": "stdout",
     "output_type": "stream",
     "text": [
      "running      run          run          run\n",
      "happiness    happi        happi        happy\n",
      "fairly       fairli       fair         fair\n",
      "studies      studi        studi        study\n",
      "connection   connect      connect      connect\n",
      "quickly      quickli      quick        quick\n",
      "going        go           go           going\n",
      "looked       look         look         look\n"
     ]
    }
   ],
   "source": [
    "for word in words:\n",
    "    print(f\"{word:<12} {porter.stem(word):<12} {snowball.stem(word):<12} {lancaster.stem(word)}\")"
   ]
  },
  {
   "cell_type": "code",
   "execution_count": null,
   "metadata": {},
   "outputs": [
    {
     "name": "stdout",
     "output_type": "stream",
     "text": [
      "runn\n",
      "cat\n",
      "look\n",
      "happines\n"
     ]
    }
   ],
   "source": [
    "from nltk.stem import RegexpStemmer\n",
    "stemmer = RegexpStemmer('ing$|s$|ed$', min=4)  # Strips \"ing\", \"s\", \"ed\" from end\n",
    "print(stemmer.stem(\"running\"))  # Output: \"runn\"\n",
    "print(stemmer.stem(\"cats\"))     # Output: \"cat\"\n",
    "print(stemmer.stem(\"looked\"))  # Output: \"look\"\n",
    "print(stemmer.stem(\"happiness\"))  # Output: \"happiness\" Wrong output"
   ]
  },
  {
   "cell_type": "code",
   "execution_count": null,
   "metadata": {},
   "outputs": [],
   "source": []
  }
 ],
 "metadata": {
  "kernelspec": {
   "display_name": "myenv",
   "language": "python",
   "name": "python3"
  },
  "language_info": {
   "codemirror_mode": {
    "name": "ipython",
    "version": 3
   },
   "file_extension": ".py",
   "mimetype": "text/x-python",
   "name": "python",
   "nbconvert_exporter": "python",
   "pygments_lexer": "ipython3",
   "version": "3.10.16"
  }
 },
 "nbformat": 4,
 "nbformat_minor": 2
}
