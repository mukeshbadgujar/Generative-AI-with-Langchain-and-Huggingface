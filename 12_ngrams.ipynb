{
 "cells": [
  {
   "cell_type": "markdown",
   "metadata": {},
   "source": [
    "# Generating N-Grams in Python"
   ]
  },
  {
   "cell_type": "code",
   "execution_count": 2,
   "metadata": {},
   "outputs": [],
   "source": [
    "from sklearn.feature_extraction.text import CountVectorizer"
   ]
  },
  {
   "cell_type": "code",
   "execution_count": 3,
   "metadata": {},
   "outputs": [],
   "source": [
    "text = [\"I love machine learning. Its awesome.\",]"
   ]
  },
  {
   "cell_type": "code",
   "execution_count": 6,
   "metadata": {},
   "outputs": [
    {
     "name": "stdout",
     "output_type": "stream",
     "text": [
      "{'love': 3, 'machine': 4, 'learning': 2, 'its': 1, 'awesome': 0}\n",
      "[[1 1 1 1 1]]\n"
     ]
    }
   ],
   "source": [
    "# Unigram (1-gram)\n",
    "vectorizer = CountVectorizer(ngram_range=(1,1))\n",
    "vectorizer.fit_transform(text)\n",
    "print(vectorizer.vocabulary_)\n",
    "print(vectorizer.transform(text).toarray())\n"
   ]
  },
  {
   "cell_type": "code",
   "execution_count": 7,
   "metadata": {},
   "outputs": [
    {
     "name": "stdout",
     "output_type": "stream",
     "text": [
      "{'love machine': 2, 'machine learning': 3, 'learning its': 1, 'its awesome': 0}\n",
      "[[1 1 1 1]]\n"
     ]
    }
   ],
   "source": [
    "# Bigram (2-gram)\n",
    "vectorizer = CountVectorizer(ngram_range=(2,2))\n",
    "vectorizer.fit_transform(text)\n",
    "print(vectorizer.vocabulary_)\n",
    "print(vectorizer.transform(text).toarray())"
   ]
  },
  {
   "cell_type": "code",
   "execution_count": 8,
   "metadata": {},
   "outputs": [
    {
     "name": "stdout",
     "output_type": "stream",
     "text": [
      "{'love machine learning': 1, 'machine learning its': 2, 'learning its awesome': 0}\n",
      "[[1 1 1]]\n"
     ]
    }
   ],
   "source": [
    "# Trigram (3-gram)\n",
    "vectorizer = CountVectorizer(ngram_range=(3,3))\n",
    "vectorizer.fit_transform(text)\n",
    "print(vectorizer.vocabulary_)\n",
    "print(vectorizer.transform(text).toarray())"
   ]
  },
  {
   "cell_type": "code",
   "execution_count": null,
   "metadata": {},
   "outputs": [],
   "source": []
  }
 ],
 "metadata": {
  "kernelspec": {
   "display_name": "myenv",
   "language": "python",
   "name": "python3"
  },
  "language_info": {
   "codemirror_mode": {
    "name": "ipython",
    "version": 3
   },
   "file_extension": ".py",
   "mimetype": "text/x-python",
   "name": "python",
   "nbconvert_exporter": "python",
   "pygments_lexer": "ipython3",
   "version": "3.10.16"
  }
 },
 "nbformat": 4,
 "nbformat_minor": 2
}
